{
  "nbformat": 4,
  "nbformat_minor": 0,
  "metadata": {
    "colab": {
      "provenance": []
    },
    "kernelspec": {
      "name": "python3",
      "display_name": "Python 3"
    },
    "language_info": {
      "name": "python"
    }
  },
  "cells": [
    {
      "cell_type": "code",
      "execution_count": 13,
      "metadata": {
        "colab": {
          "base_uri": "https://localhost:8080/"
        },
        "id": "ehJvWh_agi79",
        "outputId": "70cf0180-2a6e-4b75-e4b2-44ecd8ce7a90"
      },
      "outputs": [
        {
          "output_type": "stream",
          "name": "stdout",
          "text": [
            "Accuracy: 0.9838565022421525\n",
            "Classification Report:\n",
            "               precision    recall  f1-score   support\n",
            "\n",
            "           0       0.98      1.00      0.99       965\n",
            "           1       0.99      0.89      0.94       150\n",
            "\n",
            "    accuracy                           0.98      1115\n",
            "   macro avg       0.98      0.95      0.96      1115\n",
            "weighted avg       0.98      0.98      0.98      1115\n",
            "\n",
            "\n",
            "Sample Email Predictions:\n",
            "Email: Congratulations! You have won a free iPhone. Reply now to claim.\n",
            "Predicted Label: spam, Actual Label: spam\n",
            "--------------------------\n",
            "Email: Hi, just checking to see how you're doing. Let's catch up.\n",
            "Predicted Label: ham, Actual Label: ham\n",
            "--------------------------\n",
            "Email: URGENT: Your account will be locked if you don't verify your details.\n",
            "Predicted Label: spam, Actual Label: spam\n",
            "--------------------------\n",
            "Email: Hey, Let's meet tomorrow at 10 AM.\n",
            "Predicted Label: ham, Actual Label: ham\n",
            "--------------------------\n"
          ]
        }
      ],
      "source": [
        "import pandas as pd\n",
        "from sklearn.feature_extraction.text import CountVectorizer\n",
        "from sklearn.model_selection import train_test_split\n",
        "from sklearn.naive_bayes import MultinomialNB\n",
        "from sklearn.metrics import accuracy_score, classification_report\n",
        "\n",
        "# Load the dataset from CSV\n",
        "def load_data(file_path):\n",
        "    data = pd.read_csv(file_path, encoding='latin-1')\n",
        "    return data\n",
        "\n",
        "# Data preprocessing and splitting into train and test sets\n",
        "def preprocess_and_split(data):\n",
        "    X = data['v2']  # raw text\n",
        "    y = data['v1']  # labels\n",
        "\n",
        "    # Convert labels to binary values: 0 for 'ham', 1 for 'spam'\n",
        "    y = y.map({'ham': 0, 'spam': 1})\n",
        "    X_train, X_test, y_train, y_test = train_test_split(X, y, test_size=0.2, random_state=42)\n",
        "    return X_train, X_test, y_train, y_test\n",
        "\n",
        "# Train the Naive Bayes classifier\n",
        "def train_classifier(X_train, y_train):\n",
        "    vectorizer = CountVectorizer()\n",
        "    X_train_vectorized = vectorizer.fit_transform(X_train)\n",
        "    classifier = MultinomialNB()\n",
        "    classifier.fit(X_train_vectorized, y_train)\n",
        "    return classifier, vectorizer\n",
        "\n",
        "# Test the classifier and get accuracy\n",
        "def test_classifier(classifier, vectorizer, X_test, y_test):\n",
        "    X_test_vectorized = vectorizer.transform(X_test)\n",
        "    y_pred = classifier.predict(X_test_vectorized)\n",
        "    accuracy = accuracy_score(y_test, y_pred)\n",
        "    report = classification_report(y_test, y_pred)\n",
        "    return accuracy, report\n",
        "\n",
        "def test_sample_emails(classifier, vectorizer):\n",
        "    sample_emails = [\n",
        "        \"Congratulations! You have won a free iPhone. Reply now to claim.\",\n",
        "        \"Hi, just checking to see how you're doing. Let's catch up.\",\n",
        "        \"URGENT: Your account will be locked if you don't verify your details.\",\n",
        "        \"Hey, Let's meet tomorrow at 10 AM.\",\n",
        "    ]\n",
        "\n",
        "    # Labels: 0 for 'ham', 1 for 'spam'\n",
        "    actual_labels = [1, 0, 1, 0]\n",
        "    sample_emails_vectorized = vectorizer.transform(sample_emails)\n",
        "    predicted_labels = classifier.predict(sample_emails_vectorized)\n",
        "    predicted_labels = pd.Series(predicted_labels).map({0: 'ham', 1: 'spam'})\n",
        "\n",
        "    # Print the predictions along with the actual labels\n",
        "    print(\"\\nSample Email Predictions:\")\n",
        "    for i in range(len(sample_emails)):\n",
        "        print(f\"Email: {sample_emails[i]}\")\n",
        "        print(f\"Predicted Label: {predicted_labels[i]}, Actual Label: {'spam' if actual_labels[i] == 1 else 'ham'}\")\n",
        "        print(\"--------------------------\")\n",
        "\n",
        "\n",
        "if __name__ == \"__main__\":\n",
        "    data = load_data('spam.csv')\n",
        "    X_train, X_test, y_train, y_test = preprocess_and_split(data)\n",
        "    classifier, vectorizer = train_classifier(X_train, y_train)\n",
        "    accuracy, report = test_classifier(classifier, vectorizer, X_test, y_test)\n",
        "    print(f\"Accuracy: {accuracy}\")\n",
        "    print(\"Classification Report:\\n\", report)\n",
        "    #code for testing sample emails\n",
        "    test_sample_emails(classifier, vectorizer)\n"
      ]
    }
  ]
}